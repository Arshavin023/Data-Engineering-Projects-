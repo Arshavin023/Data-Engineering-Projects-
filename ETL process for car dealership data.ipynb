{
 "cells": [
  {
   "cell_type": "markdown",
   "id": "b9fcd59e",
   "metadata": {},
   "source": [
    "### Extract Transform Load Process"
   ]
  },
  {
   "cell_type": "markdown",
   "id": "551fb297",
   "metadata": {},
   "source": [
    "1. In this project, data from a car dealer stored in different file formats will be extracted, transformed and loaded into a MySQL database. Thereafter, basic analysis will be performed against the data in the MySQL database"
   ]
  },
  {
   "cell_type": "markdown",
   "id": "6456decb",
   "metadata": {},
   "source": [
    "#### Import libraries"
   ]
  },
  {
   "cell_type": "code",
   "execution_count": 74,
   "id": "43819044",
   "metadata": {},
   "outputs": [],
   "source": [
    "import glob                         # this module helps in selecting files \n",
    "import pandas as pd                 # this module helps in processing CSV files\n",
    "import xml.etree.ElementTree as ET  # this module helps in processing XML files.\n",
    "from datetime import datetime\n",
    "import wget\n",
    "import urllib.request\n",
    "import pymysql\n",
    "from mysql.connector import Error\n",
    "import mysql.connector as sql\n",
    "from sqlalchemy import create_engine"
   ]
  },
  {
   "cell_type": "markdown",
   "id": "ff3ec5b9",
   "metadata": {},
   "source": [
    "#### Download and Unzip Files"
   ]
  },
  {
   "cell_type": "code",
   "execution_count": 76,
   "id": "1329a0e7",
   "metadata": {},
   "outputs": [],
   "source": [
    "!wget https://cf-courses-data.s3.us.cloud-object-storage.appdomain.cloud/IBMDeveloperSkillsNetwork-PY0221EN-SkillsNetwork/labs/module%206/Lab%20-%20Extract%20Transform%20Load/data/datasource.zip\n",
    "!unzip datasource.zip -d dealership_data"
   ]
  },
  {
   "cell_type": "markdown",
   "id": "3581c111",
   "metadata": {},
   "source": [
    "#### Set Paths"
   ]
  },
  {
   "cell_type": "code",
   "execution_count": 77,
   "id": "b5eebee5",
   "metadata": {},
   "outputs": [],
   "source": [
    "tmpfile    = \"dealership_temp.tmp\"               # file used to store all extracted data\n",
    "logfile    = \"dealership_logfile.txt\"            # all event logs will be stored in this file"
   ]
  },
  {
   "cell_type": "markdown",
   "id": "ae7f0c7f",
   "metadata": {},
   "source": [
    "#### Extraction and Merging of data from different file formats"
   ]
  },
  {
   "cell_type": "code",
   "execution_count": 79,
   "id": "096fde35",
   "metadata": {},
   "outputs": [],
   "source": [
    "#### CSV extract function\n",
    "def extract_from_csv(file_to_process):\n",
    "    dataframe = pd.read_csv(file_to_process)\n",
    "    return dataframe\n",
    "\n",
    "#### JSON extract function\n",
    "def extract_from_json(file_to_process):\n",
    "    dataframe = pd.read_json(file_to_process,lines=True)\n",
    "    return dataframe\n",
    "\n",
    "#### XML extract function\n",
    "def extract_from_xml(file_to_process):\n",
    "    dataframe = pd.DataFrame(columns=[\"car_model\", \"year_of_manufacture\", \"price\",\"fuel\"])\n",
    "    tree = ET.parse(file_to_process)\n",
    "    root = tree.getroot()\n",
    "    for person in root:\n",
    "        car_model = person.find(\"car_model\").text\n",
    "        year_of_manufacture = int(person.find(\"year_of_manufacture\").text)\n",
    "        price = float(person.find(\"price\").text)\n",
    "        fuel = person.find(\"fuel\").text\n",
    "        dataframe = dataframe.append({\"car_model\":car_model, \"year_of_manufacture\":year_of_manufacture, \n",
    "                                      \"price\":price,\"fuel\":fuel}, ignore_index=True)\n",
    "    return dataframe\n",
    "\n",
    "#### Extraction and Joining of data into one file\n",
    "def extract():\n",
    "    # create an empty data frame to hold extracted data\n",
    "    extracted_data = pd.DataFrame(columns=['car_model','year_of_manufacture','price', 'fuel'])\n",
    "    \n",
    "    #process all csv files\n",
    "    for csvfile in glob.glob(\"*.csv\"):\n",
    "        extracted_data = extracted_data.append(extract_from_csv(csvfile), ignore_index=True)\n",
    "        \n",
    "    #process all json files\n",
    "    for jsonfile in glob.glob(\"*.json\"):\n",
    "        extracted_data = extracted_data.append(extract_from_json(jsonfile), ignore_index=True)\n",
    "    \n",
    "    #process all xml files\n",
    "    for xmlfile in glob.glob(\"*.xml\"):\n",
    "        extracted_data = extracted_data.append(extract_from_xml(xmlfile), ignore_index=True)\n",
    "        \n",
    "    return extracted_data"
   ]
  },
  {
   "cell_type": "markdown",
   "id": "b5c5d247",
   "metadata": {},
   "source": [
    "#### Transformation of data"
   ]
  },
  {
   "cell_type": "markdown",
   "id": "c6a35b35",
   "metadata": {},
   "source": [
    "1.  Round the price column to 2 decimal places\n"
   ]
  },
  {
   "cell_type": "code",
   "execution_count": 80,
   "id": "5129f0d8",
   "metadata": {},
   "outputs": [],
   "source": [
    "def transform(data):\n",
    "    data['price'] = round(data.price,2)\n",
    "    return data"
   ]
  },
  {
   "cell_type": "markdown",
   "id": "8d0dec33",
   "metadata": {},
   "source": [
    "#### Loading the transformed data into a MySQL database"
   ]
  },
  {
   "cell_type": "code",
   "execution_count": 93,
   "id": "32e9edb9",
   "metadata": {},
   "outputs": [],
   "source": [
    "def connect_to_db():\n",
    "    conn = sql.connect(host=\"localhost\",user=\"root\",passwd=\"admin123!\",db=\"car_dealership\",charset='utf8mb4')\n",
    "    con_cursor=conn.cursor()\n",
    "    con_cursor.execute('drop database if exists car_dealership')\n",
    "    con_cursor.execute('create database car_dealership')\n",
    "    con_cursor.execute('use car_dealership')\n",
    "    con_cursor.execute('drop table if exists used_car_prices')\n",
    "    con_cursor.execute('''create table used_car_prices(car_model varchar(255) null,year_of_manufacture int null,\n",
    "                            price double null,fuel varchar(255) null)\n",
    "                            ENGINE=InnoDB DEFAULT CHARSET=utf8mb4 COLLATE=utf8mb4_unicode_ci ROW_FORMAT=COMPRESSED''')\n",
    "    conn.close()\n",
    "\n",
    "def load(password,data_to_load):\n",
    "    connect_to_db()\n",
    "    # Creating an engine to quickly push data to car_dealership database\n",
    "    host=\"localhost\"\n",
    "    database=\"car_dealership\"\n",
    "    port=3306\n",
    "    user=\"root\"\n",
    "    connection_string = \"mysql+pymysql://%s:%s@%s:%s/%s\" % (user, password, host, port, database)\n",
    "    engine = create_engine(connection_string)\n",
    "    data_to_load.to_sql(name='used_car_prices',con=engine,if_exists='append',index=False)"
   ]
  },
  {
   "cell_type": "markdown",
   "id": "0eefaf8a",
   "metadata": {},
   "source": [
    "#### Logging"
   ]
  },
  {
   "cell_type": "code",
   "execution_count": 82,
   "id": "0789117b",
   "metadata": {},
   "outputs": [],
   "source": [
    "def log(message):\n",
    "    timestamp_format = '%Y-%h-%d-%H:%M:%S' # Year-Monthname-Day-Hour-Minute-Second\n",
    "    now = datetime.now() # get current timestamp\n",
    "    timestamp = now.strftime(timestamp_format)\n",
    "    with open(\"dealership_logfile.txt\",\"a\") as f:\n",
    "        f.write(timestamp + ',' + message + '\\n')"
   ]
  },
  {
   "cell_type": "code",
   "execution_count": null,
   "id": "d3f80126",
   "metadata": {},
   "outputs": [],
   "source": []
  },
  {
   "cell_type": "markdown",
   "id": "9c7db689",
   "metadata": {},
   "source": [
    "#### Running ETL job"
   ]
  },
  {
   "cell_type": "code",
   "execution_count": 92,
   "id": "ed754d8a",
   "metadata": {},
   "outputs": [],
   "source": [
    "log(\"ETL Job Started\")\n",
    "log(\"Extract phase Started\")\n",
    "extracted_data = extract()\n",
    "log(\"Extract phase Ended\")\n",
    "log(\"Transform phase Started\")\n",
    "transformed_data = transform(extracted_data)"
   ]
  },
  {
   "cell_type": "code",
   "execution_count": 133,
   "id": "3096d643",
   "metadata": {},
   "outputs": [
    {
     "data": {
      "text/html": [
       "<div>\n",
       "<style scoped>\n",
       "    .dataframe tbody tr th:only-of-type {\n",
       "        vertical-align: middle;\n",
       "    }\n",
       "\n",
       "    .dataframe tbody tr th {\n",
       "        vertical-align: top;\n",
       "    }\n",
       "\n",
       "    .dataframe thead th {\n",
       "        text-align: right;\n",
       "    }\n",
       "</style>\n",
       "<table border=\"1\" class=\"dataframe\">\n",
       "  <thead>\n",
       "    <tr style=\"text-align: right;\">\n",
       "      <th></th>\n",
       "      <th>car_model</th>\n",
       "      <th>year_of_manufacture</th>\n",
       "      <th>price</th>\n",
       "      <th>fuel</th>\n",
       "    </tr>\n",
       "  </thead>\n",
       "  <tbody>\n",
       "    <tr>\n",
       "      <th>0</th>\n",
       "      <td>ritz</td>\n",
       "      <td>2014</td>\n",
       "      <td>5000.00</td>\n",
       "      <td>Petrol</td>\n",
       "    </tr>\n",
       "    <tr>\n",
       "      <th>1</th>\n",
       "      <td>sx4</td>\n",
       "      <td>2013</td>\n",
       "      <td>7089.55</td>\n",
       "      <td>Diesel</td>\n",
       "    </tr>\n",
       "    <tr>\n",
       "      <th>2</th>\n",
       "      <td>ciaz</td>\n",
       "      <td>2017</td>\n",
       "      <td>10820.90</td>\n",
       "      <td>Petrol</td>\n",
       "    </tr>\n",
       "    <tr>\n",
       "      <th>3</th>\n",
       "      <td>wagon r</td>\n",
       "      <td>2011</td>\n",
       "      <td>4253.73</td>\n",
       "      <td>Petrol</td>\n",
       "    </tr>\n",
       "    <tr>\n",
       "      <th>4</th>\n",
       "      <td>swift</td>\n",
       "      <td>2014</td>\n",
       "      <td>6865.67</td>\n",
       "      <td>Diesel</td>\n",
       "    </tr>\n",
       "  </tbody>\n",
       "</table>\n",
       "</div>"
      ],
      "text/plain": [
       "  car_model year_of_manufacture     price    fuel\n",
       "0      ritz                2014   5000.00  Petrol\n",
       "1       sx4                2013   7089.55  Diesel\n",
       "2      ciaz                2017  10820.90  Petrol\n",
       "3   wagon r                2011   4253.73  Petrol\n",
       "4     swift                2014   6865.67  Diesel"
      ]
     },
     "execution_count": 133,
     "metadata": {},
     "output_type": "execute_result"
    }
   ],
   "source": [
    "# Preview data before loading \n",
    "transformed_data.head()"
   ]
  },
  {
   "cell_type": "code",
   "execution_count": null,
   "id": "127c8d74",
   "metadata": {},
   "outputs": [],
   "source": [
    "log(\"Transform phase Ended\")\n",
    "log(\"Load phase Started\")\n",
    "load(\"admin123!\",transformed_data)\n",
    "log(\"Load phase Ended\")"
   ]
  },
  {
   "cell_type": "markdown",
   "id": "b8ba6778",
   "metadata": {},
   "source": [
    "#### Basic analysis on data in MySQL database"
   ]
  },
  {
   "cell_type": "code",
   "execution_count": null,
   "id": "6989f677",
   "metadata": {},
   "outputs": [],
   "source": [
    "conn = sql.connect(host=\"localhost\",user=\"root\",passwd=\"admin123!\",db=\"car_dealership\",charset='utf8mb4')"
   ]
  },
  {
   "cell_type": "markdown",
   "id": "ded7d802",
   "metadata": {},
   "source": [
    "##### Yearly average price in 2 decimal place"
   ]
  },
  {
   "cell_type": "code",
   "execution_count": 121,
   "id": "462b34a1",
   "metadata": {},
   "outputs": [
    {
     "data": {
      "text/html": [
       "<div>\n",
       "<style scoped>\n",
       "    .dataframe tbody tr th:only-of-type {\n",
       "        vertical-align: middle;\n",
       "    }\n",
       "\n",
       "    .dataframe tbody tr th {\n",
       "        vertical-align: top;\n",
       "    }\n",
       "\n",
       "    .dataframe thead th {\n",
       "        text-align: right;\n",
       "    }\n",
       "</style>\n",
       "<table border=\"1\" class=\"dataframe\">\n",
       "  <thead>\n",
       "    <tr style=\"text-align: right;\">\n",
       "      <th></th>\n",
       "      <th>year_of_manufacture</th>\n",
       "      <th>yearly_avg_price</th>\n",
       "    </tr>\n",
       "  </thead>\n",
       "  <tbody>\n",
       "    <tr>\n",
       "      <th>0</th>\n",
       "      <td>2017</td>\n",
       "      <td>20315.09</td>\n",
       "    </tr>\n",
       "    <tr>\n",
       "      <th>1</th>\n",
       "      <td>2010</td>\n",
       "      <td>14639.30</td>\n",
       "    </tr>\n",
       "    <tr>\n",
       "      <th>2</th>\n",
       "      <td>2018</td>\n",
       "      <td>13805.97</td>\n",
       "    </tr>\n",
       "    <tr>\n",
       "      <th>3</th>\n",
       "      <td>2015</td>\n",
       "      <td>12126.87</td>\n",
       "    </tr>\n",
       "    <tr>\n",
       "      <th>4</th>\n",
       "      <td>2016</td>\n",
       "      <td>12113.80</td>\n",
       "    </tr>\n",
       "    <tr>\n",
       "      <th>5</th>\n",
       "      <td>2012</td>\n",
       "      <td>11835.82</td>\n",
       "    </tr>\n",
       "    <tr>\n",
       "      <th>6</th>\n",
       "      <td>2014</td>\n",
       "      <td>9667.91</td>\n",
       "    </tr>\n",
       "    <tr>\n",
       "      <th>7</th>\n",
       "      <td>2013</td>\n",
       "      <td>8922.06</td>\n",
       "    </tr>\n",
       "    <tr>\n",
       "      <th>8</th>\n",
       "      <td>2011</td>\n",
       "      <td>5046.64</td>\n",
       "    </tr>\n",
       "    <tr>\n",
       "      <th>9</th>\n",
       "      <td>2005</td>\n",
       "      <td>4656.72</td>\n",
       "    </tr>\n",
       "    <tr>\n",
       "      <th>10</th>\n",
       "      <td>2009</td>\n",
       "      <td>4365.67</td>\n",
       "    </tr>\n",
       "    <tr>\n",
       "      <th>11</th>\n",
       "      <td>2008</td>\n",
       "      <td>2910.45</td>\n",
       "    </tr>\n",
       "    <tr>\n",
       "      <th>12</th>\n",
       "      <td>2006</td>\n",
       "      <td>2649.25</td>\n",
       "    </tr>\n",
       "    <tr>\n",
       "      <th>13</th>\n",
       "      <td>2004</td>\n",
       "      <td>2238.81</td>\n",
       "    </tr>\n",
       "    <tr>\n",
       "      <th>14</th>\n",
       "      <td>2003</td>\n",
       "      <td>1940.30</td>\n",
       "    </tr>\n",
       "  </tbody>\n",
       "</table>\n",
       "</div>"
      ],
      "text/plain": [
       "    year_of_manufacture  yearly_avg_price\n",
       "0                  2017          20315.09\n",
       "1                  2010          14639.30\n",
       "2                  2018          13805.97\n",
       "3                  2015          12126.87\n",
       "4                  2016          12113.80\n",
       "5                  2012          11835.82\n",
       "6                  2014           9667.91\n",
       "7                  2013           8922.06\n",
       "8                  2011           5046.64\n",
       "9                  2005           4656.72\n",
       "10                 2009           4365.67\n",
       "11                 2008           2910.45\n",
       "12                 2006           2649.25\n",
       "13                 2004           2238.81\n",
       "14                 2003           1940.30"
      ]
     },
     "execution_count": 121,
     "metadata": {},
     "output_type": "execute_result"
    }
   ],
   "source": [
    "pd.read_sql_query(\"\"\"select year_of_manufacture,round(avg(price),2) yearly_avg_price \n",
    "                  from used_car_prices group by 1 order by round(avg(price),2) desc\"\"\",conn)"
   ]
  },
  {
   "cell_type": "markdown",
   "id": "4e9a284f",
   "metadata": {},
   "source": [
    "##### Top 5 most expensive car model on average"
   ]
  },
  {
   "cell_type": "code",
   "execution_count": 118,
   "id": "bf5db795",
   "metadata": {},
   "outputs": [
    {
     "data": {
      "text/html": [
       "<div>\n",
       "<style scoped>\n",
       "    .dataframe tbody tr th:only-of-type {\n",
       "        vertical-align: middle;\n",
       "    }\n",
       "\n",
       "    .dataframe tbody tr th {\n",
       "        vertical-align: top;\n",
       "    }\n",
       "\n",
       "    .dataframe thead th {\n",
       "        text-align: right;\n",
       "    }\n",
       "</style>\n",
       "<table border=\"1\" class=\"dataframe\">\n",
       "  <thead>\n",
       "    <tr style=\"text-align: right;\">\n",
       "      <th></th>\n",
       "      <th>car_model</th>\n",
       "      <th>average_price</th>\n",
       "    </tr>\n",
       "  </thead>\n",
       "  <tbody>\n",
       "    <tr>\n",
       "      <th>0</th>\n",
       "      <td>land cruiser</td>\n",
       "      <td>52238.81</td>\n",
       "    </tr>\n",
       "    <tr>\n",
       "      <th>1</th>\n",
       "      <td>fortuner</td>\n",
       "      <td>28671.64</td>\n",
       "    </tr>\n",
       "    <tr>\n",
       "      <th>2</th>\n",
       "      <td>innova</td>\n",
       "      <td>19773.63</td>\n",
       "    </tr>\n",
       "    <tr>\n",
       "      <th>3</th>\n",
       "      <td>vitara brezza</td>\n",
       "      <td>13805.97</td>\n",
       "    </tr>\n",
       "    <tr>\n",
       "      <th>4</th>\n",
       "      <td>ciaz</td>\n",
       "      <td>11152.57</td>\n",
       "    </tr>\n",
       "  </tbody>\n",
       "</table>\n",
       "</div>"
      ],
      "text/plain": [
       "       car_model  average_price\n",
       "0   land cruiser       52238.81\n",
       "1       fortuner       28671.64\n",
       "2         innova       19773.63\n",
       "3  vitara brezza       13805.97\n",
       "4           ciaz       11152.57"
      ]
     },
     "execution_count": 118,
     "metadata": {},
     "output_type": "execute_result"
    }
   ],
   "source": [
    "pd.read_sql_query(\"\"\"select car_model,round(avg(price) ,2) average_price\n",
    "                    from used_car_prices group by 1\n",
    "                  order by round(avg(price) ,2) desc limit 5\"\"\",conn)"
   ]
  },
  {
   "cell_type": "markdown",
   "id": "3452ef81",
   "metadata": {},
   "source": [
    "##### Average price of fuel"
   ]
  },
  {
   "cell_type": "code",
   "execution_count": 132,
   "id": "fa91cb21",
   "metadata": {},
   "outputs": [
    {
     "data": {
      "text/html": [
       "<div>\n",
       "<style scoped>\n",
       "    .dataframe tbody tr th:only-of-type {\n",
       "        vertical-align: middle;\n",
       "    }\n",
       "\n",
       "    .dataframe tbody tr th {\n",
       "        vertical-align: top;\n",
       "    }\n",
       "\n",
       "    .dataframe thead th {\n",
       "        text-align: right;\n",
       "    }\n",
       "</style>\n",
       "<table border=\"1\" class=\"dataframe\">\n",
       "  <thead>\n",
       "    <tr style=\"text-align: right;\">\n",
       "      <th></th>\n",
       "      <th>fuel</th>\n",
       "      <th>average_price</th>\n",
       "    </tr>\n",
       "  </thead>\n",
       "  <tbody>\n",
       "    <tr>\n",
       "      <th>0</th>\n",
       "      <td>Diesel</td>\n",
       "      <td>16826.70</td>\n",
       "    </tr>\n",
       "    <tr>\n",
       "      <th>1</th>\n",
       "      <td>Petrol</td>\n",
       "      <td>6760.91</td>\n",
       "    </tr>\n",
       "    <tr>\n",
       "      <th>2</th>\n",
       "      <td>CNG</td>\n",
       "      <td>4626.87</td>\n",
       "    </tr>\n",
       "  </tbody>\n",
       "</table>\n",
       "</div>"
      ],
      "text/plain": [
       "     fuel  average_price\n",
       "0  Diesel       16826.70\n",
       "1  Petrol        6760.91\n",
       "2     CNG        4626.87"
      ]
     },
     "execution_count": 132,
     "metadata": {},
     "output_type": "execute_result"
    }
   ],
   "source": [
    "pd.read_sql_query(\"\"\"select fuel,round(avg(price) ,2) average_price\n",
    "                    from used_car_prices group by 1\n",
    "                  order by round(avg(price) ,2) desc limit 5\"\"\",conn)"
   ]
  },
  {
   "cell_type": "markdown",
   "id": "d3ffc893",
   "metadata": {},
   "source": [
    "#### Closing connection to MySQL database"
   ]
  },
  {
   "cell_type": "code",
   "execution_count": 135,
   "id": "de6e62a2",
   "metadata": {},
   "outputs": [],
   "source": [
    "conn.close()"
   ]
  }
 ],
 "metadata": {
  "kernelspec": {
   "display_name": "Python 3 (ipykernel)",
   "language": "python",
   "name": "python3"
  },
  "language_info": {
   "codemirror_mode": {
    "name": "ipython",
    "version": 3
   },
   "file_extension": ".py",
   "mimetype": "text/x-python",
   "name": "python",
   "nbconvert_exporter": "python",
   "pygments_lexer": "ipython3",
   "version": "3.9.7"
  }
 },
 "nbformat": 4,
 "nbformat_minor": 5
}
